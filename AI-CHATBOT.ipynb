{
 "cells": [
  {
   "cell_type": "code",
   "execution_count": 1,
   "id": "9c01d4e9-a1e4-49d6-84cd-92f8cc73ac57",
   "metadata": {},
   "outputs": [],
   "source": [
    "import json\n",
    "import tkinter as tk\n",
    "from tkinter import scrolledtext\n",
    "from difflib import get_close_matches \n",
    "\n",
    "def load_knowledge_base(file_path: str):\n",
    "    with open(file_path, 'r') as file:\n",
    "        data: dict = json.load(file)\n",
    "    return data\n",
    "\n"
   ]
  },
  {
   "cell_type": "code",
   "execution_count": 2,
   "id": "84befd1c-e8bc-44b5-8a12-0f494e580a80",
   "metadata": {},
   "outputs": [],
   "source": [
    "\n",
    "def find_best_match(user_question: str, questions: list[str]) -> str | None:\n",
    "    matches: list = get_close_matches(user_question, questions, n=1, cutoff=0.5)\n",
    "    return matches[0] if matches else None\n",
    "\n",
    "def get_answer_for_question(question: str, knowledge_base: dict) -> str | None:\n",
    "    for q in knowledge_base[\"questions\"]:\n",
    "        if q[\"question\"] == question:\n",
    "            return q[\"answer\"]\n",
    "    return None\n",
    "\n",
    "def ask_question():\n",
    "    user_input = input_box.get(\"1.0\", tk.END).strip()\n",
    "\n",
    "    if user_input.lower() == 'quit':\n",
    "        root.destroy()\n",
    "    else:\n",
    "        best_match = find_best_match(user_input, [q[\"question\"] for q in knowledge_base[\"questions\"]])\n",
    "\n",
    "        if best_match:\n",
    "            answer = get_answer_for_question(best_match, knowledge_base)\n",
    "            output_box.insert(tk.END, f\"AGENT: {answer}\\n\")\n",
    "        else:\n",
    "            output_box.insert(tk.END, \"Bot: I don't know the answer. Can you teach me?\\n\")\n",
    "            new_answer = input(\"Type the answer or 'skip' to skip: \")\n",
    "            if new_answer.lower() != 'skip':\n",
    "                new_question = user_input\n",
    "                knowledge_base[\"questions\"].append({\"question\": new_question, \"answer\": new_answer})\n",
    "                with open('pcet_tnp.json', 'w') as file:\n",
    "                    json.dump(knowledge_base, file)\n",
    "                output_box.insert(tk.END, \"Bot: Thank you for teaching me!\\n\")\n",
    "\n",
    "knowledge_base = load_knowledge_base('pcet_tnp.json')\n"
   ]
  },
  {
   "cell_type": "code",
   "execution_count": 3,
   "id": "c8ea2567-8cf9-4a96-a575-e92ffb579624",
   "metadata": {},
   "outputs": [],
   "source": [
    "\n",
    "root = tk.Tk()\n",
    "root.title(\"PCET TNP Chatbot\")\n",
    "\n",
    "input_label = tk.Label(root, text=\"You : \")\n",
    "input_label.pack()\n",
    "\n",
    "input_box = scrolledtext.ScrolledText(root, width=50, height=10)\n",
    "input_box.pack()\n",
    "\n",
    "output_label = tk.Label(root, text=\"PCCOE AGENT :\")\n",
    "output_label.pack()\n",
    "\n",
    "output_box = scrolledtext.ScrolledText(root, width=50, height=10)\n",
    "output_box.pack()\n",
    "\n",
    "ask_button = tk.Button(root, text=\"Ask\", command=ask_question)\n",
    "ask_button.pack()\n",
    "\n",
    "root.mainloop()\n"
   ]
  },
  {
   "cell_type": "code",
   "execution_count": null,
   "id": "ff85b19b-3ea0-4f9e-98ae-1131f64069fc",
   "metadata": {},
   "outputs": [],
   "source": []
  }
 ],
 "metadata": {
  "kernelspec": {
   "display_name": "Python 3 (ipykernel)",
   "language": "python",
   "name": "python3"
  },
  "language_info": {
   "codemirror_mode": {
    "name": "ipython",
    "version": 3
   },
   "file_extension": ".py",
   "mimetype": "text/x-python",
   "name": "python",
   "nbconvert_exporter": "python",
   "pygments_lexer": "ipython3",
   "version": "3.11.9"
  }
 },
 "nbformat": 4,
 "nbformat_minor": 5
}
